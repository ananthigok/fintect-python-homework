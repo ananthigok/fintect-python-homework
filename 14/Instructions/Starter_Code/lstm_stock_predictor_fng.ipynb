{
  "nbformat": 4,
  "nbformat_minor": 0,
  "metadata": {
    "file_extension": ".py",
    "kernelspec": {
      "display_name": "Python 3",
      "language": "python",
      "name": "python3"
    },
    "language_info": {
      "codemirror_mode": {
        "name": "ipython",
        "version": 3
      },
      "file_extension": ".py",
      "mimetype": "text/x-python",
      "name": "python",
      "nbconvert_exporter": "python",
      "pygments_lexer": "ipython3",
      "version": "3.7.3"
    },
    "mimetype": "text/x-python",
    "name": "python",
    "npconvert_exporter": "python",
    "pygments_lexer": "ipython3",
    "version": 3,
    "colab": {
      "name": "Copy of lstm_stock_predictor_fng.ipynb",
      "provenance": [],
      "collapsed_sections": []
    }
  },
  "cells": [
    {
      "cell_type": "markdown",
      "metadata": {
        "id": "Pzn30Iuu6SUi"
      },
      "source": [
        "## Data Preparation\n",
        "\n",
        "In this section, you will need to prepare the training and testing data for the model. The model will use a rolling 10 day window to predict the 11th day closing price.\n",
        "\n",
        "You will need to:\n",
        "1. Use the `window_data` function to generate the X and y values for the model.\n",
        "2. Split the data into 70% training and 30% testing\n",
        "3. Apply the MinMaxScaler to the X and y values\n",
        "4. Reshape the X_train and X_test data for the model. Note: The required input format for the LSTM is:\n",
        "\n",
        "```python\n",
        "reshape((X_train.shape[0], X_train.shape[1], 1))\n",
        "```"
      ]
    },
    {
      "cell_type": "markdown",
      "metadata": {
        "id": "oxZJKUXq6SUg"
      },
      "source": [
        "# LSTM Stock Predictor Using Fear and Greed Index\n",
        "\n",
        "In this notebook, you will build and train a custom LSTM RNN that uses a 10 day window of Bitcoin fear and greed index values to predict the 11th day closing price. \n",
        "\n",
        "You will need to:\n",
        "\n",
        "1. Prepare the data for training and testing\n",
        "2. Build and train a custom LSTM RNN\n",
        "3. Evaluate the performance of the model"
      ]
    },
    {
      "cell_type": "code",
      "metadata": {
        "id": "LmIgFF2R6SUj"
      },
      "source": [
        "import numpy as np\n",
        "import pandas as pd\n",
        "#!pip install hvplot\n",
        "import hvplot.pandas\n",
        "from sklearn.model_selection import train_test_split\n",
        "from sklearn.preprocessing import StandardScaler\n",
        "from tensorflow.keras.models import Sequential\n",
        "from tensorflow.keras.layers import Dense\n"
      ],
      "execution_count": 224,
      "outputs": []
    },
    {
      "cell_type": "code",
      "metadata": {
        "id": "fvxVDOkI6SUk"
      },
      "source": [
        "# Set the random seed for reproducibility\n",
        "# Note: This is for the homework solution, but it is good practice to comment this out and run multiple experiments to evaluate your model\n",
        "from numpy.random import seed\n",
        "seed(1)\n",
        "from tensorflow import random\n",
        "random.set_seed(2)"
      ],
      "execution_count": 225,
      "outputs": []
    },
    {
      "cell_type": "code",
      "metadata": {
        "id": "ZhsgQs8R6SUl",
        "colab": {
          "base_uri": "https://localhost:8080/",
          "height": 235
        },
        "outputId": "0c7cf2a8-4415-4465-cf2f-434ce14f4649"
      },
      "source": [
        "# Load the fear and greed sentiment data for Bitcoin\n",
        "df = pd.read_csv('btc_sentiment.csv', index_col=\"date\", infer_datetime_format=True, parse_dates=True)\n",
        "df = df.drop(columns=\"fng_classification\")\n",
        "df.head()"
      ],
      "execution_count": 226,
      "outputs": [
        {
          "output_type": "execute_result",
          "data": {
            "text/html": [
              "<div>\n",
              "<style scoped>\n",
              "    .dataframe tbody tr th:only-of-type {\n",
              "        vertical-align: middle;\n",
              "    }\n",
              "\n",
              "    .dataframe tbody tr th {\n",
              "        vertical-align: top;\n",
              "    }\n",
              "\n",
              "    .dataframe thead th {\n",
              "        text-align: right;\n",
              "    }\n",
              "</style>\n",
              "<table border=\"1\" class=\"dataframe\">\n",
              "  <thead>\n",
              "    <tr style=\"text-align: right;\">\n",
              "      <th></th>\n",
              "      <th>fng_value</th>\n",
              "    </tr>\n",
              "    <tr>\n",
              "      <th>date</th>\n",
              "      <th></th>\n",
              "    </tr>\n",
              "  </thead>\n",
              "  <tbody>\n",
              "    <tr>\n",
              "      <th>2019-07-29</th>\n",
              "      <td>19</td>\n",
              "    </tr>\n",
              "    <tr>\n",
              "      <th>2019-07-28</th>\n",
              "      <td>16</td>\n",
              "    </tr>\n",
              "    <tr>\n",
              "      <th>2019-07-27</th>\n",
              "      <td>47</td>\n",
              "    </tr>\n",
              "    <tr>\n",
              "      <th>2019-07-26</th>\n",
              "      <td>24</td>\n",
              "    </tr>\n",
              "    <tr>\n",
              "      <th>2019-07-25</th>\n",
              "      <td>42</td>\n",
              "    </tr>\n",
              "  </tbody>\n",
              "</table>\n",
              "</div>"
            ],
            "text/plain": [
              "             fng_value\n",
              "date                  \n",
              "2019-07-29          19\n",
              "2019-07-28          16\n",
              "2019-07-27          47\n",
              "2019-07-26          24\n",
              "2019-07-25          42"
            ]
          },
          "metadata": {},
          "execution_count": 226
        }
      ]
    },
    {
      "cell_type": "code",
      "metadata": {
        "id": "hLhbxWicOO9i",
        "colab": {
          "base_uri": "https://localhost:8080/"
        },
        "outputId": "2a707a78-6758-4c2e-9b15-d2df4d768476"
      },
      "source": [
        "from google.colab import drive\n",
        "drive.mount('/content/drive')"
      ],
      "execution_count": 227,
      "outputs": [
        {
          "output_type": "stream",
          "text": [
            "Drive already mounted at /content/drive; to attempt to forcibly remount, call drive.mount(\"/content/drive\", force_remount=True).\n"
          ],
          "name": "stdout"
        }
      ]
    },
    {
      "cell_type": "code",
      "metadata": {
        "id": "Zv_gjNEN6SUl",
        "colab": {
          "base_uri": "https://localhost:8080/"
        },
        "outputId": "22cadcbf-652c-4f8c-e21b-428c7429cc91"
      },
      "source": [
        "# Load the historical closing prices for Bitcoin\n",
        "df2 = pd.read_csv('btc_historic.csv', index_col=\"Date\", infer_datetime_format=True, parse_dates=True)['Close']\n",
        "df2 = df2.sort_index()\n",
        "df2.tail()"
      ],
      "execution_count": 228,
      "outputs": [
        {
          "output_type": "execute_result",
          "data": {
            "text/plain": [
              "Date\n",
              "2019-07-25    9882.429688\n",
              "2019-07-26    9847.450195\n",
              "2019-07-27    9478.320313\n",
              "2019-07-28    9531.769531\n",
              "2019-07-29    9529.889648\n",
              "Name: Close, dtype: float64"
            ]
          },
          "metadata": {},
          "execution_count": 228
        }
      ]
    },
    {
      "cell_type": "code",
      "metadata": {
        "id": "QMn-S56Q6SUl",
        "colab": {
          "base_uri": "https://localhost:8080/",
          "height": 204
        },
        "outputId": "834037e1-6df4-4fc7-9db9-362bbe950e21"
      },
      "source": [
        "# Join the data into a single DataFrame\n",
        "df = df.join(df2, how=\"inner\")\n",
        "df.tail()"
      ],
      "execution_count": 229,
      "outputs": [
        {
          "output_type": "execute_result",
          "data": {
            "text/html": [
              "<div>\n",
              "<style scoped>\n",
              "    .dataframe tbody tr th:only-of-type {\n",
              "        vertical-align: middle;\n",
              "    }\n",
              "\n",
              "    .dataframe tbody tr th {\n",
              "        vertical-align: top;\n",
              "    }\n",
              "\n",
              "    .dataframe thead th {\n",
              "        text-align: right;\n",
              "    }\n",
              "</style>\n",
              "<table border=\"1\" class=\"dataframe\">\n",
              "  <thead>\n",
              "    <tr style=\"text-align: right;\">\n",
              "      <th></th>\n",
              "      <th>fng_value</th>\n",
              "      <th>Close</th>\n",
              "    </tr>\n",
              "  </thead>\n",
              "  <tbody>\n",
              "    <tr>\n",
              "      <th>2019-07-25</th>\n",
              "      <td>42</td>\n",
              "      <td>9882.429688</td>\n",
              "    </tr>\n",
              "    <tr>\n",
              "      <th>2019-07-26</th>\n",
              "      <td>24</td>\n",
              "      <td>9847.450195</td>\n",
              "    </tr>\n",
              "    <tr>\n",
              "      <th>2019-07-27</th>\n",
              "      <td>47</td>\n",
              "      <td>9478.320313</td>\n",
              "    </tr>\n",
              "    <tr>\n",
              "      <th>2019-07-28</th>\n",
              "      <td>16</td>\n",
              "      <td>9531.769531</td>\n",
              "    </tr>\n",
              "    <tr>\n",
              "      <th>2019-07-29</th>\n",
              "      <td>19</td>\n",
              "      <td>9529.889648</td>\n",
              "    </tr>\n",
              "  </tbody>\n",
              "</table>\n",
              "</div>"
            ],
            "text/plain": [
              "             fng_value        Close\n",
              "2019-07-25          42  9882.429688\n",
              "2019-07-26          24  9847.450195\n",
              "2019-07-27          47  9478.320313\n",
              "2019-07-28          16  9531.769531\n",
              "2019-07-29          19  9529.889648"
            ]
          },
          "metadata": {},
          "execution_count": 229
        }
      ]
    },
    {
      "cell_type": "code",
      "metadata": {
        "id": "jZtBLBBA6SUm",
        "colab": {
          "base_uri": "https://localhost:8080/",
          "height": 204
        },
        "outputId": "eb9d9bdd-5f9d-4860-9008-57de2042db0e"
      },
      "source": [
        "df.head()"
      ],
      "execution_count": 230,
      "outputs": [
        {
          "output_type": "execute_result",
          "data": {
            "text/html": [
              "<div>\n",
              "<style scoped>\n",
              "    .dataframe tbody tr th:only-of-type {\n",
              "        vertical-align: middle;\n",
              "    }\n",
              "\n",
              "    .dataframe tbody tr th {\n",
              "        vertical-align: top;\n",
              "    }\n",
              "\n",
              "    .dataframe thead th {\n",
              "        text-align: right;\n",
              "    }\n",
              "</style>\n",
              "<table border=\"1\" class=\"dataframe\">\n",
              "  <thead>\n",
              "    <tr style=\"text-align: right;\">\n",
              "      <th></th>\n",
              "      <th>fng_value</th>\n",
              "      <th>Close</th>\n",
              "    </tr>\n",
              "  </thead>\n",
              "  <tbody>\n",
              "    <tr>\n",
              "      <th>2018-02-01</th>\n",
              "      <td>30</td>\n",
              "      <td>9114.719727</td>\n",
              "    </tr>\n",
              "    <tr>\n",
              "      <th>2018-02-02</th>\n",
              "      <td>15</td>\n",
              "      <td>8870.820313</td>\n",
              "    </tr>\n",
              "    <tr>\n",
              "      <th>2018-02-03</th>\n",
              "      <td>40</td>\n",
              "      <td>9251.269531</td>\n",
              "    </tr>\n",
              "    <tr>\n",
              "      <th>2018-02-04</th>\n",
              "      <td>24</td>\n",
              "      <td>8218.049805</td>\n",
              "    </tr>\n",
              "    <tr>\n",
              "      <th>2018-02-05</th>\n",
              "      <td>11</td>\n",
              "      <td>6937.080078</td>\n",
              "    </tr>\n",
              "  </tbody>\n",
              "</table>\n",
              "</div>"
            ],
            "text/plain": [
              "             fng_value        Close\n",
              "2018-02-01          30  9114.719727\n",
              "2018-02-02          15  8870.820313\n",
              "2018-02-03          40  9251.269531\n",
              "2018-02-04          24  8218.049805\n",
              "2018-02-05          11  6937.080078"
            ]
          },
          "metadata": {},
          "execution_count": 230
        }
      ]
    },
    {
      "cell_type": "code",
      "metadata": {
        "id": "AqXu4QIG6SUm"
      },
      "source": [
        "# This function accepts the column number for the features (X) and the target (y)\n",
        "# It chunks the data up with a rolling window of Xt-n to predict Xt\n",
        "# It returns a numpy array of X any y\n",
        "def window_data(df, window, feature_col_number, target_col_number):\n",
        "    X = []\n",
        "    y = []\n",
        "    for i in range(len(df) - window - 1):\n",
        "        features = df.iloc[i:(i + window), feature_col_number]\n",
        "        target = df.iloc[(i + window), target_col_number]\n",
        "        X.append(features)\n",
        "        y.append(target)\n",
        "    return np.array(X), np.array(y).reshape(-1, 1)"
      ],
      "execution_count": 231,
      "outputs": []
    },
    {
      "cell_type": "code",
      "metadata": {
        "id": "d1lguL_I6SUm"
      },
      "source": [
        "# Predict Closing Prices using a 10 day window of previous fng values\n",
        "# Then, experiment with window sizes anywhere from 1 to 10 and see how the model performance changes\n",
        "window_size = 10\n",
        "\n",
        "# Column index 0 is the 'fng_value' column\n",
        "# Column index 1 is the `Close` column\n",
        "feature_column = 0\n",
        "target_column = 1\n",
        "X, y = window_data(df, window_size, feature_column, target_column)"
      ],
      "execution_count": 232,
      "outputs": []
    },
    {
      "cell_type": "code",
      "metadata": {
        "id": "0HcwKGPx6SUn"
      },
      "source": [
        "# Use 70% of the data for training and the remaineder for testing\n",
        "X_train, X_test, y_train, y_test = train_test_split(X, y, test_size=0.33, random_state=42)\n",
        "\n",
        "#split = int(0.7 * len(X))\n",
        "#X_train = X[: split]\n",
        "#X_test = X[split:]\n",
        "#y_train = y[: split]\n",
        "#y_test = y[split:]"
      ],
      "execution_count": 233,
      "outputs": []
    },
    {
      "cell_type": "code",
      "metadata": {
        "id": "5L96F1n86SUn"
      },
      "source": [
        "from sklearn.preprocessing import MinMaxScaler\n",
        "# Use the MinMaxScaler to scale data between 0 and 1.\n",
        "#scaler = MinMaxScaler() \n",
        "#scaled_values = scaler.fit_transform(df) \n",
        "#df.loc[:,:] = scaled_values\n",
        "#df.head()\n",
        "\n",
        "scaler = MinMaxScaler()\n",
        "scaler.fit(X)\n",
        "X_train = scaler.transform(X_train)\n",
        "X_test = scaler.transform(X_test)\n",
        "scaler.fit(y)\n",
        "y_train = scaler.transform(y_train)\n",
        "y_test = scaler.transform(y_test)"
      ],
      "execution_count": 234,
      "outputs": []
    },
    {
      "cell_type": "code",
      "metadata": {
        "id": "fl4TFZ9Y6SUn",
        "colab": {
          "base_uri": "https://localhost:8080/"
        },
        "outputId": "db4963d9-8021-4ae9-a49f-7c61c5e17092"
      },
      "source": [
        "# Reshape the features for the model\n",
        "X_train = X_train.reshape((X_train.shape[0], X_train.shape[1], 1))\n",
        "X_test = X_test.reshape((X_test.shape[0], X_test.shape[1], 1))\n",
        "print (f\"X_train sample values:\\n{X_train[:5]} \\n\")\n",
        "print (f\"X_test sample values:\\n{X_test[:5]}\")"
      ],
      "execution_count": 235,
      "outputs": [
        {
          "output_type": "stream",
          "text": [
            "X_train sample values:\n",
            "[[[0.        ]\n",
            "  [0.32183908]\n",
            "  [0.25287356]\n",
            "  [0.4137931 ]\n",
            "  [0.52873563]\n",
            "  [0.26436782]\n",
            "  [0.38372093]\n",
            "  [0.30232558]\n",
            "  [0.53488372]\n",
            "  [0.72093023]]\n",
            "\n",
            " [[0.1954023 ]\n",
            "  [0.18390805]\n",
            "  [0.2183908 ]\n",
            "  [0.36781609]\n",
            "  [0.37931034]\n",
            "  [0.20689655]\n",
            "  [0.38372093]\n",
            "  [0.3372093 ]\n",
            "  [0.36046512]\n",
            "  [0.34883721]]\n",
            "\n",
            " [[0.24137931]\n",
            "  [0.24137931]\n",
            "  [0.33333333]\n",
            "  [0.32183908]\n",
            "  [0.32183908]\n",
            "  [0.22988506]\n",
            "  [0.26744186]\n",
            "  [0.24418605]\n",
            "  [0.25581395]\n",
            "  [0.1744186 ]]\n",
            "\n",
            " [[0.32183908]\n",
            "  [0.26436782]\n",
            "  [0.35632184]\n",
            "  [0.35632184]\n",
            "  [0.3908046 ]\n",
            "  [0.33333333]\n",
            "  [0.11627907]\n",
            "  [0.15116279]\n",
            "  [0.13953488]\n",
            "  [0.08139535]]\n",
            "\n",
            " [[0.06896552]\n",
            "  [0.11494253]\n",
            "  [0.12643678]\n",
            "  [0.05747126]\n",
            "  [0.08045977]\n",
            "  [0.10344828]\n",
            "  [0.03488372]\n",
            "  [0.11627907]\n",
            "  [0.04651163]\n",
            "  [0.02325581]]] \n",
            "\n",
            "X_test sample values:\n",
            "[[[0.32183908]\n",
            "  [0.25287356]\n",
            "  [0.4137931 ]\n",
            "  [0.52873563]\n",
            "  [0.26436782]\n",
            "  [0.3908046 ]\n",
            "  [0.30232558]\n",
            "  [0.53488372]\n",
            "  [0.72093023]\n",
            "  [0.6744186 ]]\n",
            "\n",
            " [[0.2183908 ]\n",
            "  [0.29885057]\n",
            "  [0.2183908 ]\n",
            "  [0.62068966]\n",
            "  [0.62068966]\n",
            "  [0.43678161]\n",
            "  [0.60465116]\n",
            "  [0.59302326]\n",
            "  [0.62790698]\n",
            "  [0.6744186 ]]\n",
            "\n",
            " [[0.26436782]\n",
            "  [0.27586207]\n",
            "  [0.37931034]\n",
            "  [0.25287356]\n",
            "  [0.20689655]\n",
            "  [0.2183908 ]\n",
            "  [0.18604651]\n",
            "  [0.1627907 ]\n",
            "  [0.11627907]\n",
            "  [0.15116279]]\n",
            "\n",
            " [[0.66666667]\n",
            "  [0.3908046 ]\n",
            "  [0.2183908 ]\n",
            "  [0.29885057]\n",
            "  [0.2183908 ]\n",
            "  [0.62068966]\n",
            "  [0.61627907]\n",
            "  [0.43023256]\n",
            "  [0.60465116]\n",
            "  [0.59302326]]\n",
            "\n",
            " [[0.37931034]\n",
            "  [0.3908046 ]\n",
            "  [0.36781609]\n",
            "  [0.3908046 ]\n",
            "  [0.3908046 ]\n",
            "  [0.49425287]\n",
            "  [0.47674419]\n",
            "  [0.62790698]\n",
            "  [0.6627907 ]\n",
            "  [0.6744186 ]]]\n"
          ],
          "name": "stdout"
        }
      ]
    },
    {
      "cell_type": "markdown",
      "metadata": {
        "id": "aobNtTIj6SUn"
      },
      "source": [
        "---"
      ]
    },
    {
      "cell_type": "markdown",
      "metadata": {
        "id": "bKrzHIYI6SUn"
      },
      "source": [
        "## Build and Train the LSTM RNN\n",
        "\n",
        "In this section, you will design a custom LSTM RNN and fit (train) it using the training data.\n",
        "\n",
        "You will need to:\n",
        "1. Define the model architecture\n",
        "2. Compile the model\n",
        "3. Fit the model to the training data\n",
        "\n",
        "### Hints:\n",
        "You will want to use the same model architecture and random seed for both notebooks. This is necessary to accurately compare the performance of the FNG model vs the closing price model. "
      ]
    },
    {
      "cell_type": "code",
      "metadata": {
        "id": "hCRh09UC6SUo"
      },
      "source": [
        "from tensorflow.keras.models import Sequential\n",
        "from tensorflow.keras.layers import LSTM, Dense, Dropout"
      ],
      "execution_count": 236,
      "outputs": []
    },
    {
      "cell_type": "code",
      "metadata": {
        "id": "awjRoobB6SUo"
      },
      "source": [
        "# Build the LSTM model. \n",
        "# The return sequences need to be set to True if you are adding additional LSTM layers, but \n",
        "# You don't have to do this for the final layer. \n",
        "# Note: The dropouts help prevent overfitting\n",
        "# Note: The input shape is the number of time steps and the number of indicators\n",
        "# Note: Batching inputs has a different input shape of Samples/TimeSteps/Features\n",
        "\n",
        "model = Sequential()\n",
        "\n",
        "number_units = 5\n",
        "dropout_fraction = 0.2\n",
        "\n",
        "# Layer 1\n",
        "model.add(LSTM(\n",
        "    units=number_units,\n",
        "    return_sequences=True,\n",
        "    input_shape=(X_train.shape[1], 1))\n",
        "    )\n",
        "model.add(Dropout(dropout_fraction))\n",
        "# Layer 2\n",
        "model.add(LSTM(units=number_units, return_sequences=True))\n",
        "model.add(Dropout(dropout_fraction))\n",
        "# Layer 3\n",
        "model.add(LSTM(units=number_units))\n",
        "model.add(Dropout(dropout_fraction))\n",
        "# Output layer\n",
        "model.add(Dense(1))"
      ],
      "execution_count": 237,
      "outputs": []
    },
    {
      "cell_type": "code",
      "metadata": {
        "id": "g9sQXCZF6SUo"
      },
      "source": [
        "# Compile the model\n",
        "model.compile(optimizer=\"adam\", loss=\"mean_squared_error\")"
      ],
      "execution_count": 238,
      "outputs": []
    },
    {
      "cell_type": "code",
      "metadata": {
        "id": "EBHYN_pA6SUo",
        "colab": {
          "base_uri": "https://localhost:8080/"
        },
        "outputId": "101e9781-2911-457e-8fe4-1fe471fb38e7"
      },
      "source": [
        "# Summarize the model\n",
        "model.summary()"
      ],
      "execution_count": 239,
      "outputs": [
        {
          "output_type": "stream",
          "text": [
            "Model: \"sequential_10\"\n",
            "_________________________________________________________________\n",
            "Layer (type)                 Output Shape              Param #   \n",
            "=================================================================\n",
            "lstm_30 (LSTM)               (None, 10, 5)             140       \n",
            "_________________________________________________________________\n",
            "dropout_30 (Dropout)         (None, 10, 5)             0         \n",
            "_________________________________________________________________\n",
            "lstm_31 (LSTM)               (None, 10, 5)             220       \n",
            "_________________________________________________________________\n",
            "dropout_31 (Dropout)         (None, 10, 5)             0         \n",
            "_________________________________________________________________\n",
            "lstm_32 (LSTM)               (None, 5)                 220       \n",
            "_________________________________________________________________\n",
            "dropout_32 (Dropout)         (None, 5)                 0         \n",
            "_________________________________________________________________\n",
            "dense_10 (Dense)             (None, 1)                 6         \n",
            "=================================================================\n",
            "Total params: 586\n",
            "Trainable params: 586\n",
            "Non-trainable params: 0\n",
            "_________________________________________________________________\n"
          ],
          "name": "stdout"
        }
      ]
    },
    {
      "cell_type": "code",
      "metadata": {
        "id": "I3xg4-jY6SUo",
        "colab": {
          "base_uri": "https://localhost:8080/"
        },
        "outputId": "bc69c218-1177-408d-a3ad-1d0fb85771c1"
      },
      "source": [
        "# Train the model\n",
        "# Use at least 10 epochs\n",
        "# Do not shuffle the data\n",
        "# Experiement with the batch size, but a smaller batch size is recommended\n",
        "model.fit(X_train, y_train, epochs=10, shuffle=False, batch_size=1, verbose=1)"
      ],
      "execution_count": 240,
      "outputs": [
        {
          "output_type": "stream",
          "text": [
            "Epoch 1/10\n",
            "356/356 [==============================] - 6s 7ms/step - loss: 0.0710\n",
            "Epoch 2/10\n",
            "356/356 [==============================] - 3s 7ms/step - loss: 0.0523\n",
            "Epoch 3/10\n",
            "356/356 [==============================] - 3s 7ms/step - loss: 0.0477\n",
            "Epoch 4/10\n",
            "356/356 [==============================] - 3s 8ms/step - loss: 0.0457\n",
            "Epoch 5/10\n",
            "356/356 [==============================] - 3s 7ms/step - loss: 0.0434\n",
            "Epoch 6/10\n",
            "356/356 [==============================] - 3s 7ms/step - loss: 0.0460\n",
            "Epoch 7/10\n",
            "356/356 [==============================] - 3s 7ms/step - loss: 0.0443\n",
            "Epoch 8/10\n",
            "356/356 [==============================] - 2s 7ms/step - loss: 0.0453\n",
            "Epoch 9/10\n",
            "356/356 [==============================] - 3s 7ms/step - loss: 0.0441\n",
            "Epoch 10/10\n",
            "356/356 [==============================] - 3s 7ms/step - loss: 0.0417\n"
          ],
          "name": "stdout"
        },
        {
          "output_type": "execute_result",
          "data": {
            "text/plain": [
              "<keras.callbacks.History at 0x7f3c594e0e50>"
            ]
          },
          "metadata": {},
          "execution_count": 240
        }
      ]
    },
    {
      "cell_type": "markdown",
      "metadata": {
        "id": "bFoVho0Syk1N"
      },
      "source": [
        "Total loss counts to 0.4815 in 10 epochs\n",
        "\n",
        "Total loss counts to 0.1658 in 10 epochs with Closing Prices Model"
      ]
    },
    {
      "cell_type": "markdown",
      "metadata": {
        "id": "zacy0l7G6SUp"
      },
      "source": [
        "---"
      ]
    },
    {
      "cell_type": "markdown",
      "metadata": {
        "id": "8HNIkkI16SUp"
      },
      "source": [
        "## Model Performance\n",
        "\n",
        "In this section, you will evaluate the model using the test data. \n",
        "\n",
        "You will need to:\n",
        "1. Evaluate the model using the `X_test` and `y_test` data.\n",
        "2. Use the X_test data to make predictions\n",
        "3. Create a DataFrame of Real (y_test) vs predicted values. \n",
        "4. Plot the Real vs predicted values as a line chart\n",
        "\n",
        "### Hints\n",
        "Remember to apply the `inverse_transform` function to the predicted and y_test values to recover the actual closing prices."
      ]
    },
    {
      "cell_type": "code",
      "metadata": {
        "id": "fbdx9kz56SUp",
        "colab": {
          "base_uri": "https://localhost:8080/"
        },
        "outputId": "28d4007a-b4d1-4dbe-8de6-adf6e601a465"
      },
      "source": [
        "# Evaluate the model\n",
        "model.evaluate(X_test, y_test)"
      ],
      "execution_count": 241,
      "outputs": [
        {
          "output_type": "stream",
          "text": [
            "6/6 [==============================] - 1s 4ms/step - loss: 0.0516\n"
          ],
          "name": "stdout"
        },
        {
          "output_type": "execute_result",
          "data": {
            "text/plain": [
              "0.05158662796020508"
            ]
          },
          "metadata": {},
          "execution_count": 241
        }
      ]
    },
    {
      "cell_type": "markdown",
      "metadata": {
        "id": "ngQSwpb31T8v"
      },
      "source": [
        "Model Evaluation with Closing Prices counts to 0.0055 initially and then on second run counts to 0.0038"
      ]
    },
    {
      "cell_type": "markdown",
      "metadata": {
        "id": "xFtcOqzG_Szb"
      },
      "source": [
        ""
      ]
    },
    {
      "cell_type": "markdown",
      "metadata": {
        "id": "5_GLzykK37A-"
      },
      "source": [
        ""
      ]
    },
    {
      "cell_type": "code",
      "metadata": {
        "id": "3cZvC-gm6SUp"
      },
      "source": [
        "# Make some predictions\n",
        "predicted = model.predict(X_test)"
      ],
      "execution_count": 242,
      "outputs": []
    },
    {
      "cell_type": "code",
      "metadata": {
        "id": "8jfc274m6SUp"
      },
      "source": [
        "# Recover the original prices instead of the scaled version\n",
        "predicted_prices = scaler.inverse_transform(predicted)\n",
        "real_prices = scaler.inverse_transform(y_test.reshape(-1, 1))"
      ],
      "execution_count": 243,
      "outputs": []
    },
    {
      "cell_type": "code",
      "metadata": {
        "id": "LvgiUgHP6SUq",
        "colab": {
          "base_uri": "https://localhost:8080/",
          "height": 204
        },
        "outputId": "f314a119-384b-4415-d5b4-01276d6c695d"
      },
      "source": [
        "# Create a DataFrame of Real and Predicted values\n",
        "stocks = pd.DataFrame({\n",
        "    \"Real\": real_prices.ravel(),\n",
        "    \"Predicted\": predicted_prices.ravel()\n",
        "}, index = df.index[-len(real_prices): ]) \n",
        "stocks.head()"
      ],
      "execution_count": 244,
      "outputs": [
        {
          "output_type": "execute_result",
          "data": {
            "text/html": [
              "<div>\n",
              "<style scoped>\n",
              "    .dataframe tbody tr th:only-of-type {\n",
              "        vertical-align: middle;\n",
              "    }\n",
              "\n",
              "    .dataframe tbody tr th {\n",
              "        vertical-align: top;\n",
              "    }\n",
              "\n",
              "    .dataframe thead th {\n",
              "        text-align: right;\n",
              "    }\n",
              "</style>\n",
              "<table border=\"1\" class=\"dataframe\">\n",
              "  <thead>\n",
              "    <tr style=\"text-align: right;\">\n",
              "      <th></th>\n",
              "      <th>Real</th>\n",
              "      <th>Predicted</th>\n",
              "    </tr>\n",
              "  </thead>\n",
              "  <tbody>\n",
              "    <tr>\n",
              "      <th>2019-02-05</th>\n",
              "      <td>11097.209961</td>\n",
              "      <td>6372.610352</td>\n",
              "    </tr>\n",
              "    <tr>\n",
              "      <th>2019-02-06</th>\n",
              "      <td>8853.559570</td>\n",
              "      <td>6609.842285</td>\n",
              "    </tr>\n",
              "    <tr>\n",
              "      <th>2019-02-07</th>\n",
              "      <td>7474.750000</td>\n",
              "      <td>5974.118652</td>\n",
              "    </tr>\n",
              "    <tr>\n",
              "      <th>2019-02-08</th>\n",
              "      <td>8235.570313</td>\n",
              "      <td>6518.660645</td>\n",
              "    </tr>\n",
              "    <tr>\n",
              "      <th>2019-02-09</th>\n",
              "      <td>5748.169922</td>\n",
              "      <td>6561.067383</td>\n",
              "    </tr>\n",
              "  </tbody>\n",
              "</table>\n",
              "</div>"
            ],
            "text/plain": [
              "                    Real    Predicted\n",
              "2019-02-05  11097.209961  6372.610352\n",
              "2019-02-06   8853.559570  6609.842285\n",
              "2019-02-07   7474.750000  5974.118652\n",
              "2019-02-08   8235.570313  6518.660645\n",
              "2019-02-09   5748.169922  6561.067383"
            ]
          },
          "metadata": {},
          "execution_count": 244
        }
      ]
    },
    {
      "cell_type": "code",
      "metadata": {
        "id": "bg-aiJ616SUq",
        "colab": {
          "base_uri": "https://localhost:8080/",
          "height": 280
        },
        "outputId": "3e3ac635-652b-4210-8600-6f950a505137"
      },
      "source": [
        "# Plot the real vs predicted values as a line chart\n",
        "stocks.plot()"
      ],
      "execution_count": 245,
      "outputs": [
        {
          "output_type": "execute_result",
          "data": {
            "text/plain": [
              "<matplotlib.axes._subplots.AxesSubplot at 0x7f3c578ceed0>"
            ]
          },
          "metadata": {},
          "execution_count": 245
        },
        {
          "output_type": "display_data",
          "data": {
            "image/png": "[encoded data removed]",
            "text/plain": [
              "<Figure size 432x288 with 1 Axes>"
            ]
          },
          "metadata": {
            "needs_background": "light"
          }
        }
      ]
    },
    {
      "cell_type": "code",
      "metadata": {
        "id": "EKx5K4zl6SUq"
      },
      "source": [
        ""
      ],
      "execution_count": 245,
      "outputs": []
    },
    {
      "cell_type": "markdown",
      "metadata": {
        "id": "a_JT37JR39bz"
      },
      "source": [
        "**Which model has a lower loss?**\n",
        "\n",
        "Model with Closing Prices have lower loss\n",
        "\n",
        "\n",
        "**Which model tracks the actual values better over time?**\n",
        "Model with Closing Prices have better tracking over time\n",
        "\n",
        "\n",
        "\n",
        "**Which window size works best for the model?**\n",
        "\n",
        "Model with closing prices when had window size = 2 works best and the inferred values for various window sizes are recorded in Analysis.csv file which is saved in the directory same as the ipynb files.\n",
        "\n",
        "\n",
        "Model with FNG prices when had window size = 3 works best and the inferred values for various window sizes are recorded in Analysis.csv file which is saved in the directory same as the ipynb files."
      ]
    }
  ]
}